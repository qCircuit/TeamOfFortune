{
  "nbformat": 4,
  "nbformat_minor": 0,
  "metadata": {
    "colab": {
      "provenance": []
    },
    "kernelspec": {
      "name": "python3",
      "display_name": "Python 3"
    },
    "language_info": {
      "name": "python"
    }
  },
  "cells": [
    {
      "cell_type": "code",
      "execution_count": 1,
      "metadata": {
        "id": "4afa7h-YgfYh"
      },
      "outputs": [],
      "source": [
        "import pandas as pd\n",
        "import matplotlib.pyplot as plt\n",
        "import seaborn as sns\n",
        "import plotly.express as px"
      ]
    },
    {
      "cell_type": "code",
      "source": [
        "df=pd.read_csv('/content/drive/MyDrive/data/df.csv')\n",
        "df.head()"
      ],
      "metadata": {
        "colab": {
          "base_uri": "https://localhost:8080/",
          "height": 647
        },
        "id": "GoWaZlQQhPXt",
        "outputId": "34d1cd18-8e5d-43cb-b294-5d17049e39ec"
      },
      "execution_count": 2,
      "outputs": [
        {
          "output_type": "execute_result",
          "data": {
            "text/plain": [
              "                                                name    city  salary_from  \\\n",
              "0          Senior/Middle ML developer (аудио, голос)  Москва       300000   \n",
              "1  Ведущий разработчик ПО в области облачных техн...  Москва       250000   \n",
              "2  Конструктор/Разработчик оптических приборов/Гл...  Москва       100000   \n",
              "3         Программист 1С/Инженер 1-С/Разработчик 1-С  Москва       150000   \n",
              "4                Веб-программист 1С-Битрикс (Bitrix)  Москва       130000   \n",
              "\n",
              "   salary_to salary_currency  salary_is_gross    experience schedule  \\\n",
              "0        NaN             RUR            False  between3And6  fullDay   \n",
              "1        NaN             RUR             True  between3And6  fullDay   \n",
              "2   150000.0             RUR            False  between1And3  fullDay   \n",
              "3        NaN             RUR            False  between3And6  fullDay   \n",
              "4   170000.0             RUR            False  between3And6   remote   \n",
              "\n",
              "  employment_type       employer_name  ...  skill_эдо  skill_электроника  \\\n",
              "0            full  Вебинар Технологии  ...          0                  0   \n",
              "1            full       Прогматик Лаб  ...          0                  0   \n",
              "2            full                Ново  ...          0                  0   \n",
              "3            full   National Electric  ...          0                  0   \n",
              "4            full            KISLOROD  ...          0                  0   \n",
              "\n",
              "   skill_электронный документооборот  skill_электропривод  \\\n",
              "0                                  0                    0   \n",
              "1                                  0                    0   \n",
              "2                                  0                    0   \n",
              "3                                  0                    0   \n",
              "4                                  0                    0   \n",
              "\n",
              "   skill_электротехника  skill_электрощитовое оборудование  \\\n",
              "0                     0                                  0   \n",
              "1                     0                                  0   \n",
              "2                     0                                  0   \n",
              "3                     0                                  0   \n",
              "4                     0                                  0   \n",
              "\n",
              "   skill_эффективное решение проблем  skill_юмор  skill_язык с  \\\n",
              "0                                  0           0             0   \n",
              "1                                  0           0             0   \n",
              "2                                  0           0             0   \n",
              "3                                  0           0             0   \n",
              "4                                  0           0             0   \n",
              "\n",
              "   skill_яндекс.метрика  \n",
              "0                     0  \n",
              "1                     0  \n",
              "2                     0  \n",
              "3                     0  \n",
              "4                     0  \n",
              "\n",
              "[5 rows x 1489 columns]"
            ],
            "text/html": [
              "\n",
              "  <div id=\"df-e3ed9aa7-a003-44ef-b971-298e88858346\">\n",
              "    <div class=\"colab-df-container\">\n",
              "      <div>\n",
              "<style scoped>\n",
              "    .dataframe tbody tr th:only-of-type {\n",
              "        vertical-align: middle;\n",
              "    }\n",
              "\n",
              "    .dataframe tbody tr th {\n",
              "        vertical-align: top;\n",
              "    }\n",
              "\n",
              "    .dataframe thead th {\n",
              "        text-align: right;\n",
              "    }\n",
              "</style>\n",
              "<table border=\"1\" class=\"dataframe\">\n",
              "  <thead>\n",
              "    <tr style=\"text-align: right;\">\n",
              "      <th></th>\n",
              "      <th>name</th>\n",
              "      <th>city</th>\n",
              "      <th>salary_from</th>\n",
              "      <th>salary_to</th>\n",
              "      <th>salary_currency</th>\n",
              "      <th>salary_is_gross</th>\n",
              "      <th>experience</th>\n",
              "      <th>schedule</th>\n",
              "      <th>employment_type</th>\n",
              "      <th>employer_name</th>\n",
              "      <th>...</th>\n",
              "      <th>skill_эдо</th>\n",
              "      <th>skill_электроника</th>\n",
              "      <th>skill_электронный документооборот</th>\n",
              "      <th>skill_электропривод</th>\n",
              "      <th>skill_электротехника</th>\n",
              "      <th>skill_электрощитовое оборудование</th>\n",
              "      <th>skill_эффективное решение проблем</th>\n",
              "      <th>skill_юмор</th>\n",
              "      <th>skill_язык с</th>\n",
              "      <th>skill_яндекс.метрика</th>\n",
              "    </tr>\n",
              "  </thead>\n",
              "  <tbody>\n",
              "    <tr>\n",
              "      <th>0</th>\n",
              "      <td>Senior/Middle ML developer (аудио, голос)</td>\n",
              "      <td>Москва</td>\n",
              "      <td>300000</td>\n",
              "      <td>NaN</td>\n",
              "      <td>RUR</td>\n",
              "      <td>False</td>\n",
              "      <td>between3And6</td>\n",
              "      <td>fullDay</td>\n",
              "      <td>full</td>\n",
              "      <td>Вебинар Технологии</td>\n",
              "      <td>...</td>\n",
              "      <td>0</td>\n",
              "      <td>0</td>\n",
              "      <td>0</td>\n",
              "      <td>0</td>\n",
              "      <td>0</td>\n",
              "      <td>0</td>\n",
              "      <td>0</td>\n",
              "      <td>0</td>\n",
              "      <td>0</td>\n",
              "      <td>0</td>\n",
              "    </tr>\n",
              "    <tr>\n",
              "      <th>1</th>\n",
              "      <td>Ведущий разработчик ПО в области облачных техн...</td>\n",
              "      <td>Москва</td>\n",
              "      <td>250000</td>\n",
              "      <td>NaN</td>\n",
              "      <td>RUR</td>\n",
              "      <td>True</td>\n",
              "      <td>between3And6</td>\n",
              "      <td>fullDay</td>\n",
              "      <td>full</td>\n",
              "      <td>Прогматик Лаб</td>\n",
              "      <td>...</td>\n",
              "      <td>0</td>\n",
              "      <td>0</td>\n",
              "      <td>0</td>\n",
              "      <td>0</td>\n",
              "      <td>0</td>\n",
              "      <td>0</td>\n",
              "      <td>0</td>\n",
              "      <td>0</td>\n",
              "      <td>0</td>\n",
              "      <td>0</td>\n",
              "    </tr>\n",
              "    <tr>\n",
              "      <th>2</th>\n",
              "      <td>Конструктор/Разработчик оптических приборов/Гл...</td>\n",
              "      <td>Москва</td>\n",
              "      <td>100000</td>\n",
              "      <td>150000.0</td>\n",
              "      <td>RUR</td>\n",
              "      <td>False</td>\n",
              "      <td>between1And3</td>\n",
              "      <td>fullDay</td>\n",
              "      <td>full</td>\n",
              "      <td>Ново</td>\n",
              "      <td>...</td>\n",
              "      <td>0</td>\n",
              "      <td>0</td>\n",
              "      <td>0</td>\n",
              "      <td>0</td>\n",
              "      <td>0</td>\n",
              "      <td>0</td>\n",
              "      <td>0</td>\n",
              "      <td>0</td>\n",
              "      <td>0</td>\n",
              "      <td>0</td>\n",
              "    </tr>\n",
              "    <tr>\n",
              "      <th>3</th>\n",
              "      <td>Программист 1С/Инженер 1-С/Разработчик 1-С</td>\n",
              "      <td>Москва</td>\n",
              "      <td>150000</td>\n",
              "      <td>NaN</td>\n",
              "      <td>RUR</td>\n",
              "      <td>False</td>\n",
              "      <td>between3And6</td>\n",
              "      <td>fullDay</td>\n",
              "      <td>full</td>\n",
              "      <td>National Electric</td>\n",
              "      <td>...</td>\n",
              "      <td>0</td>\n",
              "      <td>0</td>\n",
              "      <td>0</td>\n",
              "      <td>0</td>\n",
              "      <td>0</td>\n",
              "      <td>0</td>\n",
              "      <td>0</td>\n",
              "      <td>0</td>\n",
              "      <td>0</td>\n",
              "      <td>0</td>\n",
              "    </tr>\n",
              "    <tr>\n",
              "      <th>4</th>\n",
              "      <td>Веб-программист 1С-Битрикс (Bitrix)</td>\n",
              "      <td>Москва</td>\n",
              "      <td>130000</td>\n",
              "      <td>170000.0</td>\n",
              "      <td>RUR</td>\n",
              "      <td>False</td>\n",
              "      <td>between3And6</td>\n",
              "      <td>remote</td>\n",
              "      <td>full</td>\n",
              "      <td>KISLOROD</td>\n",
              "      <td>...</td>\n",
              "      <td>0</td>\n",
              "      <td>0</td>\n",
              "      <td>0</td>\n",
              "      <td>0</td>\n",
              "      <td>0</td>\n",
              "      <td>0</td>\n",
              "      <td>0</td>\n",
              "      <td>0</td>\n",
              "      <td>0</td>\n",
              "      <td>0</td>\n",
              "    </tr>\n",
              "  </tbody>\n",
              "</table>\n",
              "<p>5 rows × 1489 columns</p>\n",
              "</div>\n",
              "      <button class=\"colab-df-convert\" onclick=\"convertToInteractive('df-e3ed9aa7-a003-44ef-b971-298e88858346')\"\n",
              "              title=\"Convert this dataframe to an interactive table.\"\n",
              "              style=\"display:none;\">\n",
              "        \n",
              "  <svg xmlns=\"http://www.w3.org/2000/svg\" height=\"24px\"viewBox=\"0 0 24 24\"\n",
              "       width=\"24px\">\n",
              "    <path d=\"M0 0h24v24H0V0z\" fill=\"none\"/>\n",
              "    <path d=\"M18.56 5.44l.94 2.06.94-2.06 2.06-.94-2.06-.94-.94-2.06-.94 2.06-2.06.94zm-11 1L8.5 8.5l.94-2.06 2.06-.94-2.06-.94L8.5 2.5l-.94 2.06-2.06.94zm10 10l.94 2.06.94-2.06 2.06-.94-2.06-.94-.94-2.06-.94 2.06-2.06.94z\"/><path d=\"M17.41 7.96l-1.37-1.37c-.4-.4-.92-.59-1.43-.59-.52 0-1.04.2-1.43.59L10.3 9.45l-7.72 7.72c-.78.78-.78 2.05 0 2.83L4 21.41c.39.39.9.59 1.41.59.51 0 1.02-.2 1.41-.59l7.78-7.78 2.81-2.81c.8-.78.8-2.07 0-2.86zM5.41 20L4 18.59l7.72-7.72 1.47 1.35L5.41 20z\"/>\n",
              "  </svg>\n",
              "      </button>\n",
              "      \n",
              "  <style>\n",
              "    .colab-df-container {\n",
              "      display:flex;\n",
              "      flex-wrap:wrap;\n",
              "      gap: 12px;\n",
              "    }\n",
              "\n",
              "    .colab-df-convert {\n",
              "      background-color: #E8F0FE;\n",
              "      border: none;\n",
              "      border-radius: 50%;\n",
              "      cursor: pointer;\n",
              "      display: none;\n",
              "      fill: #1967D2;\n",
              "      height: 32px;\n",
              "      padding: 0 0 0 0;\n",
              "      width: 32px;\n",
              "    }\n",
              "\n",
              "    .colab-df-convert:hover {\n",
              "      background-color: #E2EBFA;\n",
              "      box-shadow: 0px 1px 2px rgba(60, 64, 67, 0.3), 0px 1px 3px 1px rgba(60, 64, 67, 0.15);\n",
              "      fill: #174EA6;\n",
              "    }\n",
              "\n",
              "    [theme=dark] .colab-df-convert {\n",
              "      background-color: #3B4455;\n",
              "      fill: #D2E3FC;\n",
              "    }\n",
              "\n",
              "    [theme=dark] .colab-df-convert:hover {\n",
              "      background-color: #434B5C;\n",
              "      box-shadow: 0px 1px 3px 1px rgba(0, 0, 0, 0.15);\n",
              "      filter: drop-shadow(0px 1px 2px rgba(0, 0, 0, 0.3));\n",
              "      fill: #FFFFFF;\n",
              "    }\n",
              "  </style>\n",
              "\n",
              "      <script>\n",
              "        const buttonEl =\n",
              "          document.querySelector('#df-e3ed9aa7-a003-44ef-b971-298e88858346 button.colab-df-convert');\n",
              "        buttonEl.style.display =\n",
              "          google.colab.kernel.accessAllowed ? 'block' : 'none';\n",
              "\n",
              "        async function convertToInteractive(key) {\n",
              "          const element = document.querySelector('#df-e3ed9aa7-a003-44ef-b971-298e88858346');\n",
              "          const dataTable =\n",
              "            await google.colab.kernel.invokeFunction('convertToInteractive',\n",
              "                                                     [key], {});\n",
              "          if (!dataTable) return;\n",
              "\n",
              "          const docLinkHtml = 'Like what you see? Visit the ' +\n",
              "            '<a target=\"_blank\" href=https://colab.research.google.com/notebooks/data_table.ipynb>data table notebook</a>'\n",
              "            + ' to learn more about interactive tables.';\n",
              "          element.innerHTML = '';\n",
              "          dataTable['output_type'] = 'display_data';\n",
              "          await google.colab.output.renderOutput(dataTable, element);\n",
              "          const docLink = document.createElement('div');\n",
              "          docLink.innerHTML = docLinkHtml;\n",
              "          element.appendChild(docLink);\n",
              "        }\n",
              "      </script>\n",
              "    </div>\n",
              "  </div>\n",
              "  "
            ]
          },
          "metadata": {},
          "execution_count": 2
        }
      ]
    },
    {
      "cell_type": "code",
      "source": [
        "df['salary_from'].describe()"
      ],
      "metadata": {
        "colab": {
          "base_uri": "https://localhost:8080/"
        },
        "id": "q8xiyOGph1sc",
        "outputId": "f703e77d-8c09-4120-c51c-e3788e730e93"
      },
      "execution_count": 3,
      "outputs": [
        {
          "output_type": "execute_result",
          "data": {
            "text/plain": [
              "count      5055.000000\n",
              "mean     126573.023937\n",
              "std       69066.674174\n",
              "min          60.000000\n",
              "25%       80000.000000\n",
              "50%      120000.000000\n",
              "75%      160000.000000\n",
              "max      500000.000000\n",
              "Name: salary_from, dtype: float64"
            ]
          },
          "metadata": {},
          "execution_count": 3
        }
      ]
    },
    {
      "cell_type": "markdown",
      "source": [
        "Довольно странная минимальная зп"
      ],
      "metadata": {
        "id": "VAvE1AbRjrGU"
      }
    },
    {
      "cell_type": "code",
      "source": [
        "fig=plt.figure(figsize=(10,7))\n",
        "histplot=sns.histplot(data=df, x='salary_from', bins=9)\n",
        "histplot.set_ylabel('Количество вакансий')\n",
        "histplot.set_xlabel('Стартовая заработная плата')\n",
        "histplot.set_title('Распределение уровня стартовой заработной платы')\n",
        "histplot.grid()"
      ],
      "metadata": {
        "colab": {
          "base_uri": "https://localhost:8080/",
          "height": 459
        },
        "id": "LJSdLMd4him1",
        "outputId": "fea146b2-139c-4ec9-da81-41e0d25d169d"
      },
      "execution_count": 4,
      "outputs": [
        {
          "output_type": "display_data",
          "data": {
            "text/plain": [
              "<Figure size 720x504 with 1 Axes>"
            ],
            "image/png": "[encoded data removed]"
          },
          "metadata": {
            "needs_background": "light"
          }
        }
      ]
    },
    {
      "cell_type": "markdown",
      "source": [
        "Таким образом, доминируют предложения от 80.000 до 160.000 рублей"
      ],
      "metadata": {
        "id": "E9oViccyjQxT"
      }
    },
    {
      "cell_type": "code",
      "source": [
        "fig=plt.figure(figsize=(10,7))\n",
        "boxplot=sns.boxplot(data=df, x='salary_from', y='schedule', orient='h')\n",
        "boxplot.set_title('Распределение стартовой зп в разрезе формата работы')\n",
        "boxplot.set_xlabel('Стартовая заработная плата')\n",
        "boxplot.set_ylabel('Формат работы');"
      ],
      "metadata": {
        "colab": {
          "base_uri": "https://localhost:8080/",
          "height": 459
        },
        "id": "2BhZdE1ej1ku",
        "outputId": "76ed290d-9b12-437b-8e3c-64929da7b2db"
      },
      "execution_count": 5,
      "outputs": [
        {
          "output_type": "display_data",
          "data": {
            "text/plain": [
              "<Figure size 720x504 with 1 Axes>"
            ],
            "image/png": "[encoded data removed]"
          },
          "metadata": {
            "needs_background": "light"
          }
        }
      ]
    },
    {
      "cell_type": "code",
      "source": [
        "city_salary=df.groupby(['city'])['salary_from'].mean()\n",
        "fig=plt.figure(figsize=(10,7))\n",
        "city_salary.plot(\n",
        "    kind='bar',\n",
        "    grid=True,\n",
        "    figsize=(12, 4),\n",
        "    colormap='plasma'\n",
        ");"
      ],
      "metadata": {
        "colab": {
          "base_uri": "https://localhost:8080/",
          "height": 435
        },
        "id": "1ijpQ8jyk0O_",
        "outputId": "08f3aa3c-64b2-40af-f486-56e9055725e3"
      },
      "execution_count": 14,
      "outputs": [
        {
          "output_type": "display_data",
          "data": {
            "text/plain": [
              "<Figure size 864x288 with 1 Axes>"
            ],
            "image/png": "[encoded data removed]"
          },
          "metadata": {
            "needs_background": "light"
          }
        }
      ]
    },
    {
      "cell_type": "markdown",
      "source": [
        "Зп представлена в разных валютах, поэтому наглядное сравнение затрудняется"
      ],
      "metadata": {
        "id": "LyPDIe8Snc-H"
      }
    },
    {
      "cell_type": "code",
      "source": [
        "exp_salary=df.groupby(['experience'])['salary_from'].mean()\n",
        "fig=plt.figure(figsize=(10,7))\n",
        "exp_salary.plot(\n",
        "    kind='bar',\n",
        "    grid=True,\n",
        "    figsize=(12, 4),\n",
        "    colormap='plasma'\n",
        ");"
      ],
      "metadata": {
        "colab": {
          "base_uri": "https://localhost:8080/",
          "height": 345
        },
        "id": "ybPh6wM2n2yU",
        "outputId": "3e18cfd2-5280-48b6-f8d5-6053c4d8f7e4"
      },
      "execution_count": 13,
      "outputs": [
        {
          "output_type": "display_data",
          "data": {
            "text/plain": [
              "<Figure size 864x288 with 1 Axes>"
            ],
            "image/png": "[encoded data removed]"
          },
          "metadata": {
            "needs_background": "light"
          }
        }
      ]
    },
    {
      "cell_type": "markdown",
      "source": [
        "Предсказуемо, но все же"
      ],
      "metadata": {
        "id": "md7aDxC2oYDa"
      }
    },
    {
      "cell_type": "code",
      "source": [
        "format_salary=df.groupby(['employment_type'])['salary_from'].mean()\n",
        "fig=plt.figure(figsize=(10,7))\n",
        "format_salary.plot(\n",
        "    kind='bar',\n",
        "    grid=True,\n",
        "    figsize=(12, 4),\n",
        "    colormap='plasma'\n",
        ");"
      ],
      "metadata": {
        "colab": {
          "base_uri": "https://localhost:8080/",
          "height": 318
        },
        "id": "4aXsnYg4paPZ",
        "outputId": "d80ab3df-8cc9-4b90-853d-6e6f55bb3dba"
      },
      "execution_count": 16,
      "outputs": [
        {
          "output_type": "display_data",
          "data": {
            "text/plain": [
              "<Figure size 864x288 with 1 Axes>"
            ],
            "image/png": "[encoded data removed]"
          },
          "metadata": {
            "needs_background": "light"
          }
        }
      ]
    }
  ]
}